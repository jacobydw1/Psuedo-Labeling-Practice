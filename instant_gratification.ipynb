{
 "cells": [
  {
   "cell_type": "markdown",
   "metadata": {},
   "source": [
    "# Instant Gratification"
   ]
  },
  {
   "cell_type": "markdown",
   "metadata": {},
   "source": [
    "Kaggle Competition Link >>> https://www.kaggle.com/c/instant-gratification/overview"
   ]
  },
  {
   "cell_type": "markdown",
   "metadata": {},
   "source": [
    "> This notebook is a kaggle competition that introduces the process of Psuedo Labeling\n",
    "to improve predictions on data. Pseudo labeling is the process of adding confident predicted\n",
    "test data to your training data. "
   ]
  },
  {
   "cell_type": "markdown",
   "metadata": {},
   "source": [
    "Data Description:\n",
    "    \n",
    "This is an anonymized, binary classification dataset found on a USB stick that washed ashore in a bottle. There was no data dictionary with the dataset, but this poem was handwritten on an accompanying scrap of paper:\n",
    "\n",
    ">Silly column names abound, \n",
    "but the test set is a mystery. \n",
    ">Careful how you pick and slice, \n",
    ">or be left behind by history."
   ]
  },
  {
   "cell_type": "code",
   "execution_count": 1,
   "metadata": {},
   "outputs": [],
   "source": [
    "#Load Data \n",
    " \n",
    "import numpy as np\n",
    "import pandas as pd\n",
    "import os\n",
    "import matplotlib.pyplot as plt\n",
    "\n",
    "from sklearn.discriminant_analysis import QuadraticDiscriminantAnalysis\n",
    "from sklearn.model_selection import StratifiedKFold\n",
    "from sklearn.feature_selection import VarianceThreshold\n",
    "from sklearn.metrics import roc_auc_score\n",
    "\n",
    "train = pd.read_csv(\"train.csv\")\n",
    "test = pd.read_csv(\"test.csv\")\n"
   ]
  },
  {
   "cell_type": "code",
   "execution_count": 2,
   "metadata": {},
   "outputs": [
    {
     "data": {
      "text/html": [
       "<div>\n",
       "<style scoped>\n",
       "    .dataframe tbody tr th:only-of-type {\n",
       "        vertical-align: middle;\n",
       "    }\n",
       "\n",
       "    .dataframe tbody tr th {\n",
       "        vertical-align: top;\n",
       "    }\n",
       "\n",
       "    .dataframe thead th {\n",
       "        text-align: right;\n",
       "    }\n",
       "</style>\n",
       "<table border=\"1\" class=\"dataframe\">\n",
       "  <thead>\n",
       "    <tr style=\"text-align: right;\">\n",
       "      <th></th>\n",
       "      <th>id</th>\n",
       "      <th>muggy-smalt-axolotl-pembus</th>\n",
       "      <th>dorky-peach-sheepdog-ordinal</th>\n",
       "      <th>slimy-seashell-cassowary-goose</th>\n",
       "      <th>snazzy-harlequin-chicken-distraction</th>\n",
       "      <th>frumpy-smalt-mau-ordinal</th>\n",
       "      <th>stealthy-beige-pinscher-golden</th>\n",
       "      <th>chummy-cream-tarantula-entropy</th>\n",
       "      <th>hazy-emerald-cuttlefish-unsorted</th>\n",
       "      <th>nerdy-indigo-wolfhound-sorted</th>\n",
       "      <th>...</th>\n",
       "      <th>wheezy-myrtle-mandrill-entropy</th>\n",
       "      <th>wiggy-lilac-lemming-sorted</th>\n",
       "      <th>gloppy-cerise-snail-contributor</th>\n",
       "      <th>woozy-silver-havanese-gaussian</th>\n",
       "      <th>jumpy-thistle-discus-sorted</th>\n",
       "      <th>muggy-turquoise-donkey-important</th>\n",
       "      <th>blurry-buff-hyena-entropy</th>\n",
       "      <th>bluesy-chocolate-kudu-fepid</th>\n",
       "      <th>gamy-white-monster-expert</th>\n",
       "      <th>target</th>\n",
       "    </tr>\n",
       "  </thead>\n",
       "  <tbody>\n",
       "    <tr>\n",
       "      <th>0</th>\n",
       "      <td>707b395ecdcbb4dc2eabea00e4d1b179</td>\n",
       "      <td>-2.070654</td>\n",
       "      <td>1.018160</td>\n",
       "      <td>0.228643</td>\n",
       "      <td>0.857221</td>\n",
       "      <td>0.052271</td>\n",
       "      <td>0.230303</td>\n",
       "      <td>-6.385090</td>\n",
       "      <td>0.439369</td>\n",
       "      <td>-0.721946</td>\n",
       "      <td>...</td>\n",
       "      <td>0.351895</td>\n",
       "      <td>0.618824</td>\n",
       "      <td>-1.542423</td>\n",
       "      <td>0.598175</td>\n",
       "      <td>0.611757</td>\n",
       "      <td>0.678772</td>\n",
       "      <td>0.247059</td>\n",
       "      <td>-0.806677</td>\n",
       "      <td>-0.193649</td>\n",
       "      <td>0</td>\n",
       "    </tr>\n",
       "    <tr>\n",
       "      <th>1</th>\n",
       "      <td>5880c03c6582a7b42248668e56b4bdec</td>\n",
       "      <td>-0.491702</td>\n",
       "      <td>0.082645</td>\n",
       "      <td>-0.011193</td>\n",
       "      <td>1.071266</td>\n",
       "      <td>-0.346347</td>\n",
       "      <td>-0.082209</td>\n",
       "      <td>0.110579</td>\n",
       "      <td>-0.382374</td>\n",
       "      <td>-0.229620</td>\n",
       "      <td>...</td>\n",
       "      <td>-0.645115</td>\n",
       "      <td>-1.246090</td>\n",
       "      <td>2.613357</td>\n",
       "      <td>-0.479664</td>\n",
       "      <td>1.581289</td>\n",
       "      <td>0.931258</td>\n",
       "      <td>0.151937</td>\n",
       "      <td>-0.766595</td>\n",
       "      <td>0.474351</td>\n",
       "      <td>0</td>\n",
       "    </tr>\n",
       "    <tr>\n",
       "      <th>2</th>\n",
       "      <td>4ccbcb3d13e5072ff1d9c61afe2c4f77</td>\n",
       "      <td>-1.680473</td>\n",
       "      <td>0.860529</td>\n",
       "      <td>-1.076195</td>\n",
       "      <td>0.740124</td>\n",
       "      <td>3.678445</td>\n",
       "      <td>0.288558</td>\n",
       "      <td>0.515875</td>\n",
       "      <td>0.920590</td>\n",
       "      <td>-1.223277</td>\n",
       "      <td>...</td>\n",
       "      <td>0.516422</td>\n",
       "      <td>0.130521</td>\n",
       "      <td>-0.459210</td>\n",
       "      <td>2.028205</td>\n",
       "      <td>-0.093968</td>\n",
       "      <td>-0.218274</td>\n",
       "      <td>-0.163136</td>\n",
       "      <td>-0.870289</td>\n",
       "      <td>0.064038</td>\n",
       "      <td>1</td>\n",
       "    </tr>\n",
       "    <tr>\n",
       "      <th>3</th>\n",
       "      <td>e350f17a357f12a1941f0837afb7eb8d</td>\n",
       "      <td>0.183774</td>\n",
       "      <td>0.919134</td>\n",
       "      <td>-0.946958</td>\n",
       "      <td>0.918492</td>\n",
       "      <td>0.862278</td>\n",
       "      <td>1.155287</td>\n",
       "      <td>0.911106</td>\n",
       "      <td>0.562598</td>\n",
       "      <td>-1.349685</td>\n",
       "      <td>...</td>\n",
       "      <td>-1.168967</td>\n",
       "      <td>1.385089</td>\n",
       "      <td>-0.353028</td>\n",
       "      <td>3.316150</td>\n",
       "      <td>-0.524087</td>\n",
       "      <td>-0.794327</td>\n",
       "      <td>3.936365</td>\n",
       "      <td>0.682989</td>\n",
       "      <td>-2.521211</td>\n",
       "      <td>0</td>\n",
       "    </tr>\n",
       "    <tr>\n",
       "      <th>4</th>\n",
       "      <td>a8f910ea6075b6376af079055965ff68</td>\n",
       "      <td>-0.203933</td>\n",
       "      <td>-0.177252</td>\n",
       "      <td>0.368074</td>\n",
       "      <td>-0.701320</td>\n",
       "      <td>-1.104391</td>\n",
       "      <td>0.735760</td>\n",
       "      <td>0.894273</td>\n",
       "      <td>-1.375826</td>\n",
       "      <td>-5.144946</td>\n",
       "      <td>...</td>\n",
       "      <td>-0.279168</td>\n",
       "      <td>1.544356</td>\n",
       "      <td>2.959727</td>\n",
       "      <td>1.641201</td>\n",
       "      <td>-0.130818</td>\n",
       "      <td>-0.264292</td>\n",
       "      <td>-0.748668</td>\n",
       "      <td>0.964218</td>\n",
       "      <td>0.087079</td>\n",
       "      <td>0</td>\n",
       "    </tr>\n",
       "  </tbody>\n",
       "</table>\n",
       "<p>5 rows × 258 columns</p>\n",
       "</div>"
      ],
      "text/plain": [
       "                                 id  muggy-smalt-axolotl-pembus  \\\n",
       "0  707b395ecdcbb4dc2eabea00e4d1b179                   -2.070654   \n",
       "1  5880c03c6582a7b42248668e56b4bdec                   -0.491702   \n",
       "2  4ccbcb3d13e5072ff1d9c61afe2c4f77                   -1.680473   \n",
       "3  e350f17a357f12a1941f0837afb7eb8d                    0.183774   \n",
       "4  a8f910ea6075b6376af079055965ff68                   -0.203933   \n",
       "\n",
       "   dorky-peach-sheepdog-ordinal  slimy-seashell-cassowary-goose  \\\n",
       "0                      1.018160                        0.228643   \n",
       "1                      0.082645                       -0.011193   \n",
       "2                      0.860529                       -1.076195   \n",
       "3                      0.919134                       -0.946958   \n",
       "4                     -0.177252                        0.368074   \n",
       "\n",
       "   snazzy-harlequin-chicken-distraction  frumpy-smalt-mau-ordinal  \\\n",
       "0                              0.857221                  0.052271   \n",
       "1                              1.071266                 -0.346347   \n",
       "2                              0.740124                  3.678445   \n",
       "3                              0.918492                  0.862278   \n",
       "4                             -0.701320                 -1.104391   \n",
       "\n",
       "   stealthy-beige-pinscher-golden  chummy-cream-tarantula-entropy  \\\n",
       "0                        0.230303                       -6.385090   \n",
       "1                       -0.082209                        0.110579   \n",
       "2                        0.288558                        0.515875   \n",
       "3                        1.155287                        0.911106   \n",
       "4                        0.735760                        0.894273   \n",
       "\n",
       "   hazy-emerald-cuttlefish-unsorted  nerdy-indigo-wolfhound-sorted  ...  \\\n",
       "0                          0.439369                      -0.721946  ...   \n",
       "1                         -0.382374                      -0.229620  ...   \n",
       "2                          0.920590                      -1.223277  ...   \n",
       "3                          0.562598                      -1.349685  ...   \n",
       "4                         -1.375826                      -5.144946  ...   \n",
       "\n",
       "   wheezy-myrtle-mandrill-entropy  wiggy-lilac-lemming-sorted  \\\n",
       "0                        0.351895                    0.618824   \n",
       "1                       -0.645115                   -1.246090   \n",
       "2                        0.516422                    0.130521   \n",
       "3                       -1.168967                    1.385089   \n",
       "4                       -0.279168                    1.544356   \n",
       "\n",
       "   gloppy-cerise-snail-contributor  woozy-silver-havanese-gaussian  \\\n",
       "0                        -1.542423                        0.598175   \n",
       "1                         2.613357                       -0.479664   \n",
       "2                        -0.459210                        2.028205   \n",
       "3                        -0.353028                        3.316150   \n",
       "4                         2.959727                        1.641201   \n",
       "\n",
       "   jumpy-thistle-discus-sorted  muggy-turquoise-donkey-important  \\\n",
       "0                     0.611757                          0.678772   \n",
       "1                     1.581289                          0.931258   \n",
       "2                    -0.093968                         -0.218274   \n",
       "3                    -0.524087                         -0.794327   \n",
       "4                    -0.130818                         -0.264292   \n",
       "\n",
       "   blurry-buff-hyena-entropy  bluesy-chocolate-kudu-fepid  \\\n",
       "0                   0.247059                    -0.806677   \n",
       "1                   0.151937                    -0.766595   \n",
       "2                  -0.163136                    -0.870289   \n",
       "3                   3.936365                     0.682989   \n",
       "4                  -0.748668                     0.964218   \n",
       "\n",
       "   gamy-white-monster-expert  target  \n",
       "0                  -0.193649       0  \n",
       "1                   0.474351       0  \n",
       "2                   0.064038       1  \n",
       "3                  -2.521211       0  \n",
       "4                   0.087079       0  \n",
       "\n",
       "[5 rows x 258 columns]"
      ]
     },
     "execution_count": 2,
     "metadata": {},
     "output_type": "execute_result"
    }
   ],
   "source": [
    "train.head()"
   ]
  },
  {
   "cell_type": "code",
   "execution_count": 3,
   "metadata": {},
   "outputs": [
    {
     "name": "stdout",
     "output_type": "stream",
     "text": [
      "<class 'pandas.core.frame.DataFrame'>\n",
      "RangeIndex: 262144 entries, 0 to 262143\n",
      "Columns: 258 entries, id to target\n",
      "dtypes: float64(255), int64(2), object(1)\n",
      "memory usage: 516.0+ MB\n"
     ]
    }
   ],
   "source": [
    "train.info()"
   ]
  },
  {
   "cell_type": "markdown",
   "metadata": {},
   "source": [
    "## Step 1 & 2 : Build First QDA Model and Predict Test"
   ]
  },
  {
   "cell_type": "code",
   "execution_count": 4,
   "metadata": {},
   "outputs": [
    {
     "name": "stdout",
     "output_type": "stream",
     "text": [
      "QDA scores CV = 0.63184\n"
     ]
    }
   ],
   "source": [
    "cols = [c for c in train.columns if c not in ['id', 'target']]\n",
    "        \n",
    "cols.remove('wheezy-copper-turtle-magic')\n",
    "oof = np.zeros(len(train))\n",
    "preds = np.zeros(len(test))\n",
    "\n",
    "# Build 512 Seperate Models\n",
    "num = test['wheezy-copper-turtle-magic'] < 512\n",
    "test2 = test[num]\n",
    "\n",
    "num2 = train['wheezy-copper-turtle-magic'] < 512\n",
    "train2 = train[num2]\n",
    "   \n",
    "    \n",
    "    \n",
    "idx1 = train2.index; idx2 = test2.index\n",
    "train2.reset_index(drop=True, inplace=True)\n",
    "    \n",
    "# FEATURE SELECTION (USE APPROX 40 OF 255 FEATURES)\n",
    "sel = VarianceThreshold(threshold=1.2).fit(train2[cols])\n",
    "train3 = sel.transform(train2[cols])\n",
    "test3 = sel.transform(test2[cols])\n",
    "    \n",
    "    \n",
    "# STRATIFIED K-FOLD\n",
    "skf = StratifiedKFold(n_splits=11, random_state=42, shuffle=True)\n",
    "for train_index, test_index in skf.split(train3, train2['target']):\n",
    "        \n",
    "    #MODEL AND PREDICT WITH QDA\n",
    "    clf = QuadraticDiscriminantAnalysis(reg_param=0.5)\n",
    "    clf.fit(train3[train_index,:], train2.loc[train_index]['target'])\n",
    "    oof[idx1[test_index]] = clf.predict_proba(train3[test_index,:])[:,1]\n",
    "    preds[idx2] += clf.predict_proba(test3)[:,1] / skf.n_splits\n",
    "       \n",
    "    #if i%64==0: print(i)\n",
    "\n",
    "# PRINT CV AUC\n",
    "auc = roc_auc_score(train['target'],oof)\n",
    "print('QDA scores CV =',round(auc,5))\n",
    "\n"
   ]
  },
  {
   "cell_type": "code",
   "execution_count": 5,
   "metadata": {},
   "outputs": [
    {
     "data": {
      "text/plain": [
       "((262144, 258), (262144, 255))"
      ]
     },
     "execution_count": 5,
     "metadata": {},
     "output_type": "execute_result"
    }
   ],
   "source": [
    "train.shape, train3.shape"
   ]
  },
  {
   "cell_type": "code",
   "execution_count": 6,
   "metadata": {},
   "outputs": [
    {
     "name": "stdout",
     "output_type": "stream",
     "text": [
      "Pseudo Labeled QDA scores CV = 0.63403\n"
     ]
    }
   ],
   "source": [
    "# INITIALIZE VARIABLES\n",
    "test['target'] = preds\n",
    "oof = np.zeros(len(train))\n",
    "preds = np.zeros(len(test))\n",
    "\n",
    "# Build 512 Seperate Models\n",
    "num3 = test['wheezy-copper-turtle-magic'] < 512\n",
    "test2 = test[num3]\n",
    "\n",
    "num4 = train['wheezy-copper-turtle-magic'] < 512\n",
    "train2 = train[num4]\n",
    "\n",
    " \n",
    "train2p = train2.copy(); idx1 = train2.index \n",
    "\n",
    "    \n",
    "# ADD PSEUDO LABELED DATA\n",
    "test2p = test2[ (test2['target']<=0.01) | (test2['target']>=0.99) ].copy()\n",
    "test2p.loc[ test2p['target']>=0.5, 'target' ] = 1\n",
    "test2p.loc[ test2p['target']<0.5, 'target' ] = 0 \n",
    "train2p = pd.concat([train2p,test2p],axis=0)\n",
    "train2p.reset_index(drop=True,inplace=True)\n",
    "    \n",
    "#FEATURE SELECTION (USE APPROX 40 OF 255 FEATURES)\n",
    "sel = VarianceThreshold(threshold=1.15).fit(train2p[cols])     \n",
    "train3p = sel.transform(train2p[cols])\n",
    "train3 = sel.transform(train2[cols])\n",
    "test3 = sel.transform(test2[cols])\n",
    "        \n",
    "# STRATIFIED K FOLD\n",
    "skf = StratifiedKFold(n_splits=11, random_state=42, shuffle=True)\n",
    "for train_index, test_index in skf.split(train3p, train2p['target']):\n",
    "    test_index3 = test_index[ test_index<len(train3) ] # ignore pseudo in oof\n",
    "        \n",
    "    # MODEL AND PREDICT WITH QDA\n",
    "    clf = QuadraticDiscriminantAnalysis(reg_param=0.5)\n",
    "    clf.fit(train3p[train_index,:],train2p.loc[train_index]['target'])\n",
    "    oof[idx1[test_index3]] = clf.predict_proba(train3[test_index3,:])[:,1]\n",
    "    preds[test2.index] += clf.predict_proba(test3)[:,1] / skf.n_splits\n",
    "       \n",
    "    #if k%64==0: print(k)\n",
    "        \n",
    "# PRINT CV AUC\n",
    "auc = roc_auc_score(train['target'],oof)\n",
    "print('Pseudo Labeled QDA scores CV =',round(auc,5))"
   ]
  },
  {
   "cell_type": "code",
   "execution_count": 8,
   "metadata": {},
   "outputs": [
    {
     "data": {
      "image/png": "[encoded data removed]",
      "text/plain": [
       "<Figure size 432x288 with 1 Axes>"
      ]
     },
     "metadata": {
      "needs_background": "light"
     },
     "output_type": "display_data"
    }
   ],
   "source": [
    "sub = pd.read_csv(\"sample_submission.csv\")\n",
    "sub[\"target\"] = preds\n",
    "sub.to_csv(\"submission.csv\", index=False)\n",
    "\n",
    "plt.hist(preds, bins=100)\n",
    "plt.title(\"Final test predictions\")\n",
    "plt.show()"
   ]
  },
  {
   "cell_type": "code",
   "execution_count": null,
   "metadata": {},
   "outputs": [],
   "source": []
  }
 ],
 "metadata": {
  "kernelspec": {
   "display_name": "Python 3",
   "language": "python",
   "name": "python3"
  },
  "language_info": {
   "codemirror_mode": {
    "name": "ipython",
    "version": 3
   },
   "file_extension": ".py",
   "mimetype": "text/x-python",
   "name": "python",
   "nbconvert_exporter": "python",
   "pygments_lexer": "ipython3",
   "version": "3.8.2"
  }
 },
 "nbformat": 4,
 "nbformat_minor": 4
}
